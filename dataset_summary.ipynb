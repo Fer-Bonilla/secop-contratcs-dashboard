{
  "nbformat": 4,
  "nbformat_minor": 0,
  "metadata": {
    "colab": {
      "name": "dataset_summary.ipynb",
      "provenance": [],
      "include_colab_link": true
    },
    "kernelspec": {
      "name": "python3",
      "display_name": "Python 3"
    }
  },
  "cells": [
    {
      "cell_type": "markdown",
      "metadata": {
        "id": "view-in-github",
        "colab_type": "text"
      },
      "source": [
        "<a href=\"https://colab.research.google.com/github/Fer-Bonilla/secop-contratcs-dashboard/blob/main/dataset_summary.ipynb\" target=\"_parent\"><img src=\"https://colab.research.google.com/assets/colab-badge.svg\" alt=\"Open In Colab\"/></a>"
      ]
    },
    {
      "cell_type": "code",
      "metadata": {
        "id": "_DSwefE4RnB3"
      },
      "source": [
        "import pandas as pd\n",
        "import numpy as np\n",
        "import os\n",
        "from IPython.display import display"
      ],
      "execution_count": null,
      "outputs": []
    },
    {
      "cell_type": "code",
      "metadata": {
        "id": "SMft_87aTOCQ",
        "colab": {
          "base_uri": "https://localhost:8080/",
          "height": 1000
        },
        "outputId": "f0569326-38d4-434a-a713-b55bd2b6360d"
      },
      "source": [
        "!pip install geopandas shapely rtree\n",
        "!sudo apt-get update && apt-get install -y libspatialindex-dev\n",
        "import geopandas\n",
        "from shapely.geometry import Point, Polygon\n",
        "import matplotlib.pyplot as plt"
      ],
      "execution_count": null,
      "outputs": [
        {
          "output_type": "stream",
          "text": [
            "Collecting geopandas\n",
            "\u001b[?25l  Downloading https://files.pythonhosted.org/packages/59/39/de0263d511d4fc35a640cf00d02e497eb60698315a22936bedbdd904d7f7/geopandas-0.6.1-py2.py3-none-any.whl (918kB)\n",
            "\r\u001b[K     |▍                               | 10kB 21.0MB/s eta 0:00:01\r\u001b[K     |▊                               | 20kB 7.1MB/s eta 0:00:01\r\u001b[K     |█                               | 30kB 10.0MB/s eta 0:00:01\r\u001b[K     |█▍                              | 40kB 6.3MB/s eta 0:00:01\r\u001b[K     |█▉                              | 51kB 7.6MB/s eta 0:00:01\r\u001b[K     |██▏                             | 61kB 8.9MB/s eta 0:00:01\r\u001b[K     |██▌                             | 71kB 10.2MB/s eta 0:00:01\r\u001b[K     |██▉                             | 81kB 11.3MB/s eta 0:00:01\r\u001b[K     |███▏                            | 92kB 12.5MB/s eta 0:00:01\r\u001b[K     |███▋                            | 102kB 10.2MB/s eta 0:00:01\r\u001b[K     |████                            | 112kB 10.2MB/s eta 0:00:01\r\u001b[K     |████▎                           | 122kB 10.2MB/s eta 0:00:01\r\u001b[K     |████▋                           | 133kB 10.2MB/s eta 0:00:01\r\u001b[K     |█████                           | 143kB 10.2MB/s eta 0:00:01\r\u001b[K     |█████▍                          | 153kB 10.2MB/s eta 0:00:01\r\u001b[K     |█████▊                          | 163kB 10.2MB/s eta 0:00:01\r\u001b[K     |██████                          | 174kB 10.2MB/s eta 0:00:01\r\u001b[K     |██████▍                         | 184kB 10.2MB/s eta 0:00:01\r\u001b[K     |██████▉                         | 194kB 10.2MB/s eta 0:00:01\r\u001b[K     |███████▏                        | 204kB 10.2MB/s eta 0:00:01\r\u001b[K     |███████▌                        | 215kB 10.2MB/s eta 0:00:01\r\u001b[K     |███████▉                        | 225kB 10.2MB/s eta 0:00:01\r\u001b[K     |████████▏                       | 235kB 10.2MB/s eta 0:00:01\r\u001b[K     |████████▋                       | 245kB 10.2MB/s eta 0:00:01\r\u001b[K     |█████████                       | 256kB 10.2MB/s eta 0:00:01\r\u001b[K     |█████████▎                      | 266kB 10.2MB/s eta 0:00:01\r\u001b[K     |█████████▋                      | 276kB 10.2MB/s eta 0:00:01\r\u001b[K     |██████████                      | 286kB 10.2MB/s eta 0:00:01\r\u001b[K     |██████████▍                     | 296kB 10.2MB/s eta 0:00:01\r\u001b[K     |██████████▊                     | 307kB 10.2MB/s eta 0:00:01\r\u001b[K     |███████████                     | 317kB 10.2MB/s eta 0:00:01\r\u001b[K     |███████████▍                    | 327kB 10.2MB/s eta 0:00:01\r\u001b[K     |███████████▊                    | 337kB 10.2MB/s eta 0:00:01\r\u001b[K     |████████████▏                   | 348kB 10.2MB/s eta 0:00:01\r\u001b[K     |████████████▌                   | 358kB 10.2MB/s eta 0:00:01\r\u001b[K     |████████████▉                   | 368kB 10.2MB/s eta 0:00:01\r\u001b[K     |█████████████▏                  | 378kB 10.2MB/s eta 0:00:01\r\u001b[K     |█████████████▋                  | 389kB 10.2MB/s eta 0:00:01\r\u001b[K     |██████████████                  | 399kB 10.2MB/s eta 0:00:01\r\u001b[K     |██████████████▎                 | 409kB 10.2MB/s eta 0:00:01\r\u001b[K     |██████████████▋                 | 419kB 10.2MB/s eta 0:00:01\r\u001b[K     |███████████████                 | 430kB 10.2MB/s eta 0:00:01\r\u001b[K     |███████████████▍                | 440kB 10.2MB/s eta 0:00:01\r\u001b[K     |███████████████▊                | 450kB 10.2MB/s eta 0:00:01\r\u001b[K     |████████████████                | 460kB 10.2MB/s eta 0:00:01\r\u001b[K     |████████████████▍               | 471kB 10.2MB/s eta 0:00:01\r\u001b[K     |████████████████▊               | 481kB 10.2MB/s eta 0:00:01\r\u001b[K     |█████████████████▏              | 491kB 10.2MB/s eta 0:00:01\r\u001b[K     |█████████████████▌              | 501kB 10.2MB/s eta 0:00:01\r\u001b[K     |█████████████████▉              | 512kB 10.2MB/s eta 0:00:01\r\u001b[K     |██████████████████▏             | 522kB 10.2MB/s eta 0:00:01\r\u001b[K     |██████████████████▌             | 532kB 10.2MB/s eta 0:00:01\r\u001b[K     |███████████████████             | 542kB 10.2MB/s eta 0:00:01\r\u001b[K     |███████████████████▎            | 552kB 10.2MB/s eta 0:00:01\r\u001b[K     |███████████████████▋            | 563kB 10.2MB/s eta 0:00:01\r\u001b[K     |████████████████████            | 573kB 10.2MB/s eta 0:00:01\r\u001b[K     |████████████████████▍           | 583kB 10.2MB/s eta 0:00:01\r\u001b[K     |████████████████████▊           | 593kB 10.2MB/s eta 0:00:01\r\u001b[K     |█████████████████████           | 604kB 10.2MB/s eta 0:00:01\r\u001b[K     |█████████████████████▍          | 614kB 10.2MB/s eta 0:00:01\r\u001b[K     |█████████████████████▊          | 624kB 10.2MB/s eta 0:00:01\r\u001b[K     |██████████████████████▏         | 634kB 10.2MB/s eta 0:00:01\r\u001b[K     |██████████████████████▌         | 645kB 10.2MB/s eta 0:00:01\r\u001b[K     |██████████████████████▉         | 655kB 10.2MB/s eta 0:00:01\r\u001b[K     |███████████████████████▏        | 665kB 10.2MB/s eta 0:00:01\r\u001b[K     |███████████████████████▌        | 675kB 10.2MB/s eta 0:00:01\r\u001b[K     |████████████████████████        | 686kB 10.2MB/s eta 0:00:01\r\u001b[K     |████████████████████████▎       | 696kB 10.2MB/s eta 0:00:01\r\u001b[K     |████████████████████████▋       | 706kB 10.2MB/s eta 0:00:01\r\u001b[K     |█████████████████████████       | 716kB 10.2MB/s eta 0:00:01\r\u001b[K     |█████████████████████████▎      | 727kB 10.2MB/s eta 0:00:01\r\u001b[K     |█████████████████████████▊      | 737kB 10.2MB/s eta 0:00:01\r\u001b[K     |██████████████████████████      | 747kB 10.2MB/s eta 0:00:01\r\u001b[K     |██████████████████████████▍     | 757kB 10.2MB/s eta 0:00:01\r\u001b[K     |██████████████████████████▊     | 768kB 10.2MB/s eta 0:00:01\r\u001b[K     |███████████████████████████▏    | 778kB 10.2MB/s eta 0:00:01\r\u001b[K     |███████████████████████████▌    | 788kB 10.2MB/s eta 0:00:01\r\u001b[K     |███████████████████████████▉    | 798kB 10.2MB/s eta 0:00:01\r\u001b[K     |████████████████████████████▏   | 808kB 10.2MB/s eta 0:00:01\r\u001b[K     |████████████████████████████▌   | 819kB 10.2MB/s eta 0:00:01\r\u001b[K     |█████████████████████████████   | 829kB 10.2MB/s eta 0:00:01\r\u001b[K     |█████████████████████████████▎  | 839kB 10.2MB/s eta 0:00:01\r\u001b[K     |█████████████████████████████▋  | 849kB 10.2MB/s eta 0:00:01\r\u001b[K     |██████████████████████████████  | 860kB 10.2MB/s eta 0:00:01\r\u001b[K     |██████████████████████████████▎ | 870kB 10.2MB/s eta 0:00:01\r\u001b[K     |██████████████████████████████▊ | 880kB 10.2MB/s eta 0:00:01\r\u001b[K     |███████████████████████████████ | 890kB 10.2MB/s eta 0:00:01\r\u001b[K     |███████████████████████████████▍| 901kB 10.2MB/s eta 0:00:01\r\u001b[K     |███████████████████████████████▊| 911kB 10.2MB/s eta 0:00:01\r\u001b[K     |████████████████████████████████| 921kB 10.2MB/s \n",
            "\u001b[?25hRequirement already satisfied: shapely in /usr/local/lib/python3.6/dist-packages (1.6.4.post2)\n",
            "Collecting rtree\n",
            "  Downloading https://files.pythonhosted.org/packages/33/0d/0bcb0fdd759570e85697189f675fa462131e5636482f2832288bbe4bb6f7/Rtree-0.8.3-py3-none-any.whl\n",
            "Collecting pyproj\n",
            "\u001b[?25l  Downloading https://files.pythonhosted.org/packages/7a/b1/ab67ad924770e1c1432fa0953a665b8ea193b60c7494457b69da052d6e83/pyproj-2.4.0-cp36-cp36m-manylinux1_x86_64.whl (10.1MB)\n",
            "\u001b[K     |████████████████████████████████| 10.1MB 18.1MB/s \n",
            "\u001b[?25hRequirement already satisfied: pandas>=0.23.0 in /usr/local/lib/python3.6/dist-packages (from geopandas) (0.25.2)\n",
            "Collecting fiona\n",
            "\u001b[?25l  Downloading https://files.pythonhosted.org/packages/19/80/09aa6ba5e4ed3f07ddbd2204634b119cb50ae613aa182c6ee7daff3adc9b/Fiona-1.8.9.post2-cp36-cp36m-manylinux1_x86_64.whl (11.9MB)\n",
            "\u001b[K     |████████████████████████████████| 11.9MB 201kB/s \n",
            "\u001b[?25hRequirement already satisfied: setuptools in /usr/local/lib/python3.6/dist-packages (from rtree) (41.4.0)\n",
            "Requirement already satisfied: python-dateutil>=2.6.1 in /usr/local/lib/python3.6/dist-packages (from pandas>=0.23.0->geopandas) (2.6.1)\n",
            "Requirement already satisfied: numpy>=1.13.3 in /usr/local/lib/python3.6/dist-packages (from pandas>=0.23.0->geopandas) (1.17.3)\n",
            "Requirement already satisfied: pytz>=2017.2 in /usr/local/lib/python3.6/dist-packages (from pandas>=0.23.0->geopandas) (2018.9)\n",
            "Collecting click-plugins>=1.0\n",
            "  Downloading https://files.pythonhosted.org/packages/e9/da/824b92d9942f4e472702488857914bdd50f73021efea15b4cad9aca8ecef/click_plugins-1.1.1-py2.py3-none-any.whl\n",
            "Requirement already satisfied: six>=1.7 in /usr/local/lib/python3.6/dist-packages (from fiona->geopandas) (1.12.0)\n",
            "Requirement already satisfied: attrs>=17 in /usr/local/lib/python3.6/dist-packages (from fiona->geopandas) (19.3.0)\n",
            "Collecting munch\n",
            "  Downloading https://files.pythonhosted.org/packages/68/f4/260ec98ea840757a0da09e0ed8135333d59b8dfebe9752a365b04857660a/munch-2.3.2.tar.gz\n",
            "Collecting cligj>=0.5\n",
            "  Downloading https://files.pythonhosted.org/packages/e4/be/30a58b4b0733850280d01f8bd132591b4668ed5c7046761098d665ac2174/cligj-0.5.0-py3-none-any.whl\n",
            "Requirement already satisfied: click<8,>=4.0 in /usr/local/lib/python3.6/dist-packages (from fiona->geopandas) (7.0)\n",
            "Building wheels for collected packages: munch\n",
            "  Building wheel for munch (setup.py) ... \u001b[?25l\u001b[?25hdone\n",
            "  Created wheel for munch: filename=munch-2.3.2-py2.py3-none-any.whl size=6614 sha256=68ecc10eaf2d5ae3e093d8c950d531e75f931e28ea3622d691e6a32c4de58b05\n",
            "  Stored in directory: /root/.cache/pip/wheels/db/bf/bc/06a3e1bfe0ab27d2e720ceb3cff3159398d92644c0cec2c125\n",
            "Successfully built munch\n",
            "Installing collected packages: pyproj, click-plugins, munch, cligj, fiona, geopandas, rtree\n",
            "Successfully installed click-plugins-1.1.1 cligj-0.5.0 fiona-1.8.9.post2 geopandas-0.6.1 munch-2.3.2 pyproj-2.4.0 rtree-0.8.3\n",
            "Hit:1 http://ppa.launchpad.net/graphics-drivers/ppa/ubuntu bionic InRelease\n",
            "Hit:2 http://archive.ubuntu.com/ubuntu bionic InRelease\n",
            "Get:3 http://archive.ubuntu.com/ubuntu bionic-updates InRelease [88.7 kB]\n",
            "Hit:4 http://ppa.launchpad.net/marutter/c2d4u3.5/ubuntu bionic InRelease\n",
            "Get:5 http://archive.ubuntu.com/ubuntu bionic-backports InRelease [74.6 kB]\n",
            "Get:6 https://cloud.r-project.org/bin/linux/ubuntu bionic-cran35/ InRelease [3,626 B]\n",
            "Get:7 http://security.ubuntu.com/ubuntu bionic-security InRelease [88.7 kB]\n",
            "Get:8 http://archive.ubuntu.com/ubuntu bionic-updates/multiverse amd64 Packages [9,022 B]\n",
            "Get:9 http://archive.ubuntu.com/ubuntu bionic-updates/restricted amd64 Packages [23.2 kB]\n",
            "Get:10 http://archive.ubuntu.com/ubuntu bionic-updates/universe amd64 Packages [1,301 kB]\n",
            "Get:11 http://archive.ubuntu.com/ubuntu bionic-updates/main amd64 Packages [990 kB]\n",
            "Ign:12 https://developer.download.nvidia.com/compute/cuda/repos/ubuntu1804/x86_64  InRelease\n",
            "Get:13 http://security.ubuntu.com/ubuntu bionic-security/main amd64 Packages [695 kB]\n",
            "Ign:14 https://developer.download.nvidia.com/compute/machine-learning/repos/ubuntu1804/x86_64  InRelease\n",
            "Hit:15 https://developer.download.nvidia.com/compute/cuda/repos/ubuntu1804/x86_64  Release\n",
            "Hit:16 https://developer.download.nvidia.com/compute/machine-learning/repos/ubuntu1804/x86_64  Release\n",
            "Get:19 http://security.ubuntu.com/ubuntu bionic-security/restricted amd64 Packages [12.6 kB]\n",
            "Get:20 http://security.ubuntu.com/ubuntu bionic-security/multiverse amd64 Packages [5,944 B]\n",
            "Get:21 http://security.ubuntu.com/ubuntu bionic-security/universe amd64 Packages [782 kB]\n",
            "Fetched 4,075 kB in 3s (1,577 kB/s)\n",
            "Reading package lists... Done\n",
            "Reading package lists... Done\n",
            "Building dependency tree       \n",
            "Reading state information... Done\n",
            "The following additional packages will be installed:\n",
            "  libspatialindex-c4v5 libspatialindex4v5\n",
            "The following NEW packages will be installed:\n",
            "  libspatialindex-c4v5 libspatialindex-dev libspatialindex4v5\n",
            "0 upgraded, 3 newly installed, 0 to remove and 30 not upgraded.\n",
            "Need to get 555 kB of archives.\n",
            "After this operation, 3,308 kB of additional disk space will be used.\n",
            "Get:1 http://archive.ubuntu.com/ubuntu bionic/universe amd64 libspatialindex4v5 amd64 1.8.5-5 [219 kB]\n",
            "Get:2 http://archive.ubuntu.com/ubuntu bionic/universe amd64 libspatialindex-c4v5 amd64 1.8.5-5 [51.7 kB]\n",
            "Get:3 http://archive.ubuntu.com/ubuntu bionic/universe amd64 libspatialindex-dev amd64 1.8.5-5 [285 kB]\n",
            "Fetched 555 kB in 0s (2,899 kB/s)\n",
            "Selecting previously unselected package libspatialindex4v5:amd64.\n",
            "(Reading database ... 132681 files and directories currently installed.)\n",
            "Preparing to unpack .../libspatialindex4v5_1.8.5-5_amd64.deb ...\n",
            "Unpacking libspatialindex4v5:amd64 (1.8.5-5) ...\n",
            "Selecting previously unselected package libspatialindex-c4v5:amd64.\n",
            "Preparing to unpack .../libspatialindex-c4v5_1.8.5-5_amd64.deb ...\n",
            "Unpacking libspatialindex-c4v5:amd64 (1.8.5-5) ...\n",
            "Selecting previously unselected package libspatialindex-dev:amd64.\n",
            "Preparing to unpack .../libspatialindex-dev_1.8.5-5_amd64.deb ...\n",
            "Unpacking libspatialindex-dev:amd64 (1.8.5-5) ...\n",
            "Setting up libspatialindex4v5:amd64 (1.8.5-5) ...\n",
            "Setting up libspatialindex-c4v5:amd64 (1.8.5-5) ...\n",
            "Processing triggers for libc-bin (2.27-3ubuntu1) ...\n",
            "Setting up libspatialindex-dev:amd64 (1.8.5-5) ...\n"
          ],
          "name": "stdout"
        }
      ]
    },
    {
      "cell_type": "code",
      "metadata": {
        "id": "9qvqZoO_TQyo",
        "colab": {
          "base_uri": "https://localhost:8080/",
          "height": 35
        },
        "outputId": "36273898-bc6e-43f0-e54f-cc4f19fd941e"
      },
      "source": [
        "# Load the Drive helper and mount\n",
        "from google.colab import drive\n",
        "drive.mount('/content/drive')"
      ],
      "execution_count": null,
      "outputs": [
        {
          "output_type": "stream",
          "text": [
            "Mounted at /content/drive\n"
          ],
          "name": "stdout"
        }
      ]
    },
    {
      "cell_type": "code",
      "metadata": {
        "id": "PiPpiloCTT6z"
      },
      "source": [
        "data_folder = \"/content/drive/My Drive/DS4A/Proyecto Final/Dataset/\""
      ],
      "execution_count": null,
      "outputs": []
    },
    {
      "cell_type": "markdown",
      "metadata": {
        "id": "TH2oSpLgURe-"
      },
      "source": [
        "# Exploring datasets"
      ]
    },
    {
      "cell_type": "markdown",
      "metadata": {
        "id": "dGbbZCs8UU3v"
      },
      "source": [
        "## SECOP II \"Contratos\" dataset"
      ]
    },
    {
      "cell_type": "code",
      "metadata": {
        "id": "S1B_AzgfTwow"
      },
      "source": [
        "def read_secop_ii_contr():\n",
        "    df = pd.read_csv(os.path.join(data_folder, \"SECOP_I_Procesos.csv\"))\n",
        "    display(df.head(15))\n",
        "    return df"
      ],
      "execution_count": null,
      "outputs": []
    },
    {
      "cell_type": "code",
      "metadata": {
        "id": "8rKXyI6Jdklg"
      },
      "source": [
        "df = read_secop_ii_contr()\n",
        "print(list(df.columns))\n",
        "print(len(df.index))\n",
        "display(df.tail(15))"
      ],
      "execution_count": null,
      "outputs": []
    }
  ]
}